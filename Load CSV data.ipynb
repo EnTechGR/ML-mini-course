{
 "cells": [
  {
   "cell_type": "markdown",
   "id": "chief-pavilion",
   "metadata": {},
   "source": [
    "ML needs data and one of the most common files is a CSV (comma separated value) format.\n",
    "\n",
    "You can use your own but is best to practice on standard machine learning datasets\n",
    "\n",
    "Below we will see an example reading data from a URL"
   ]
  },
  {
   "cell_type": "code",
   "execution_count": null,
   "id": "capable-infection",
   "metadata": {},
   "outputs": [],
   "source": [
    "# Load CSV using Pandas from URL\n",
    "import pandas\n",
    "url = \"https://raw.githubusercontent.com/jbrownlee/Datasets/master/pima-indians-diabetes.data.csv\"\n",
    "names = ['preg', 'plas', 'pres', 'skin', 'test', 'mass', 'pedi', 'age', 'class']\n",
    "data = pandas.read_csv(url, names=names)\n",
    "print(data.shape)"
   ]
  },
  {
   "cell_type": "markdown",
   "id": "mounted-preservation",
   "metadata": {},
   "source": [
    "You can find plenty of data to download in this URL below.\n",
    "https://archive.ics.uci.edu/ml/datasets.php?format=&task=&att=&area=&numAtt=&numIns=&type=ts&sort=nameUp&view=table"
   ]
  },
  {
   "cell_type": "code",
   "execution_count": null,
   "id": "gross-money",
   "metadata": {},
   "outputs": [],
   "source": [
    "#Read your own or a downloaded csv named 'data'\n",
    "import pandas as pd\n",
    "df = pd.read_csv('data.csv')  "
   ]
  },
  {
   "cell_type": "markdown",
   "id": "twenty-scientist",
   "metadata": {},
   "source": [
    "More for csv files and Python interaction\n",
    "https://docs.python.org/2/library/csv.html"
   ]
  }
 ],
 "metadata": {
  "kernelspec": {
   "display_name": "Python 3",
   "language": "python",
   "name": "python3"
  },
  "language_info": {
   "codemirror_mode": {
    "name": "ipython",
    "version": 3
   },
   "file_extension": ".py",
   "mimetype": "text/x-python",
   "name": "python",
   "nbconvert_exporter": "python",
   "pygments_lexer": "ipython3",
   "version": "3.9.5"
  }
 },
 "nbformat": 4,
 "nbformat_minor": 5
}
